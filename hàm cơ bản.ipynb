{
 "cells": [
  {
   "cell_type": "code",
   "execution_count": 54,
   "metadata": {},
   "outputs": [
    {
     "name": "stdout",
     "output_type": "stream",
     "text": [
      "6.0\n"
     ]
    }
   ],
   "source": [
    "import math\n",
    "print(math.sqrt(36)) #căn bậc hai"
   ]
  },
  {
   "cell_type": "code",
   "execution_count": 55,
   "metadata": {},
   "outputs": [],
   "source": [
    "from math import *\n",
    "#kiem tra n la so nguyen to, neu dung in 1 , sai in 0\n",
    "#ham 1\n",
    "def ham1(n):\n",
    "    if n < 2:\n",
    "        return False\n",
    "    for i in range(2, isqrt(n)+1):\n",
    "        if n % i == 0:\n",
    "            return False\n",
    "    return True"
   ]
  },
  {
   "cell_type": "code",
   "execution_count": 56,
   "metadata": {},
   "outputs": [],
   "source": [
    "#in tong chu so cua n\n",
    "def ham2(n):\n",
    "    tong = 0\n",
    "    while(n != 0):\n",
    "        tong += n % 10 \n",
    "        n //= 10\n",
    "    return tong"
   ]
  },
  {
   "cell_type": "code",
   "execution_count": 57,
   "metadata": {},
   "outputs": [],
   "source": [
    "#in tong chu so chan cua n\n",
    "def ham3(n):\n",
    "    tong = 0\n",
    "    while(n != 0):\n",
    "        if n % 10 % 2 == 0:\n",
    "           tong += n % 10 \n",
    "        n //= 10"
   ]
  },
  {
   "cell_type": "code",
   "execution_count": 58,
   "metadata": {},
   "outputs": [
    {
     "name": "stdout",
     "output_type": "stream",
     "text": [
      "hello world\n",
      "hello world\n",
      "Ben10\n"
     ]
    }
   ],
   "source": [
    "s = 'hello world'\n",
    "type(s)\n",
    "len(s)\n",
    "print(s)\n",
    "print(s)\n",
    "name = 'Ben' +str(10)\n",
    "print (name)"
   ]
  }
 ],
 "metadata": {
  "kernelspec": {
   "display_name": "Python 3",
   "language": "python",
   "name": "python3"
  },
  "language_info": {
   "codemirror_mode": {
    "name": "ipython",
    "version": 3
   },
   "file_extension": ".py",
   "mimetype": "text/x-python",
   "name": "python",
   "nbconvert_exporter": "python",
   "pygments_lexer": "ipython3",
   "version": "3.13.2"
  }
 },
 "nbformat": 4,
 "nbformat_minor": 2
}

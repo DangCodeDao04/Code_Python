{
 "cells": [
  {
   "cell_type": "code",
   "execution_count": null,
   "metadata": {},
   "outputs": [],
   "source": [
    "import numpy as np \n",
    "x1 = np.arange(0,2 *np.pi,0,5)\n",
    "y1 = np.sin(x1)\n",
    "\n",
    "x2 = np.linspace(0,2 *np.pi,100) \n",
    "y2 = np.sin(x2)\n",
    "import matplotlib.pyplot as plt\n",
    "plt.plot(x2,y2)"
   ]
  }
 ],
 "metadata": {
  "kernelspec": {
   "display_name": "Python 3",
   "language": "python",
   "name": "python3"
  },
  "language_info": {
   "name": "python",
   "version": "3.13.2"
  }
 },
 "nbformat": 4,
 "nbformat_minor": 2
}
